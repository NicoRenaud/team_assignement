{
 "cells": [
  {
   "cell_type": "code",
   "execution_count": 1,
   "metadata": {},
   "outputs": [],
   "source": [
    "import numpy as np\n",
    "import pandas as pd\n",
    "import qgrid\n",
    "from assignment_team import create_random_dataframe, solve"
   ]
  },
  {
   "cell_type": "code",
   "execution_count": 16,
   "metadata": {},
   "outputs": [],
   "source": [
    "df = create_random_dataframe()"
   ]
  },
  {
   "cell_type": "code",
   "execution_count": 17,
   "metadata": {
    "scrolled": true
   },
   "outputs": [
    {
     "data": {
      "application/vnd.jupyter.widget-view+json": {
       "model_id": "b2d3d5ba96bf48c59055c9cd2626f455",
       "version_major": 2,
       "version_minor": 0
      },
      "text/plain": [
       "QgridWidget(grid_options={'fullWidthRows': True, 'syncColumnCellResize': True, 'forceFitColumns': True, 'defau…"
      ]
     },
     "metadata": {},
     "output_type": "display_data"
    }
   ],
   "source": [
    "qgrid_widget = qgrid.show_grid(df, show_toolbar=True)\n",
    "qgrid_widget"
   ]
  },
  {
   "cell_type": "code",
   "execution_count": 18,
   "metadata": {
    "scrolled": true
   },
   "outputs": [
    {
     "name": "stdout",
     "output_type": "stream",
     "text": [
      "Minimum cost =  150.0\n",
      "\n",
      "===  Exact Science : \n",
      "\t   1 . Eleanor Peterson          \tCost =  0 \t [0 10 20 30]\n",
      "\t   2 . Arturo Duffy              \tCost =  0 \t [0 10 20 30]\n",
      "\t   3 . Debora Mead               \tCost =  0 \t [0 10 20 30]\n",
      "\t   4 . Carol Parker              \tCost =  0 \t [0 10 20 30]\n",
      "\t   5 . Ida Porter                \tCost =  0 \t [0 10 20 30]\n",
      "\t   6 . Eva Pooler                \tCost =  0 \t [0 20 10 30]\n",
      "\t   7 . Jeffrey Schaller          \tCost =  0 \t [0 10 30 20]\n",
      "\t   8 . Jean Kuntz                \tCost =  0 \t [0 10 20 30]\n",
      "\t   9 . Lisa Agan                 \tCost =  0 \t [0 20 10 30]\n",
      "\t  10 . Karen Guthrie             \tCost =  0 \t [0 30 10 20]\n",
      "\t  11 . Louis Stepro              \tCost =  0 \t [0 20 10 30]\n",
      "\t  12 . Blanca Nelson             \tCost =  0 \t [0 20 10 30]\n",
      "\n",
      "===  Life Science : \n",
      "\t   1 . Larry Martin              \tCost =  0 \t [10 0 20 30]\n",
      "\t   2 . Julio Dasilva             \tCost =  0 \t [20 0 10 30]\n",
      "\t   3 . Virginia Bryant           \tCost =  0 \t [10 0 20 30]\n",
      "\t   4 . Ernesto Hodge             \tCost =  0 \t [30 0 10 20]\n",
      "\t   5 . Diane Cull                \tCost =  10 \t [0 10 30 20]\n",
      "\t   6 . Ella Moore                \tCost =  0 \t [20 0 10 30]\n",
      "\t   7 . Jack Martin               \tCost =  0 \t [20 0 10 30]\n",
      "\t   8 . Jean Anderson             \tCost =  0 \t [20 0 10 30]\n",
      "\t   9 . William Harris            \tCost =  0 \t [30 0 20 10]\n",
      "\t  10 . Cynthia Johnson           \tCost =  0 \t [20 0 10 30]\n",
      "\t  11 . Jane Horn                 \tCost =  0 \t [10 0 20 30]\n",
      "\t  12 . Gloria Olsen              \tCost =  0 \t [20 0 10 30]\n",
      "\n",
      "===  Environement : \n",
      "\t   1 . Myrtle Arevalo            \tCost =  10 \t [0 20 10 30]\n",
      "\t   2 . Daniel Jones              \tCost =  0 \t [20 30 0 10]\n",
      "\t   3 . David Lemmon              \tCost =  10 \t [0 30 10 20]\n",
      "\t   4 . Terese Seide              \tCost =  0 \t [10 20 0 30]\n",
      "\t   5 . Chrystal Mclean           \tCost =  0 \t [20 10 0 30]\n",
      "\t   6 . Tonya Hall                \tCost =  0 \t [20 10 0 30]\n",
      "\t   7 . Ann Morrow                \tCost =  0 \t [20 10 0 30]\n",
      "\t   8 . Ray Galarza               \tCost =  0 \t [10 20 0 30]\n",
      "\t   9 . Christopher Spader        \tCost =  10 \t [0 30 10 20]\n",
      "\t  10 . Ana Burris                \tCost =  10 \t [0 20 10 30]\n",
      "\t  11 . David Navarro             \tCost =  0 \t [30 20 0 10]\n",
      "\t  12 . Earl Wilkinson            \tCost =  0 \t [10 30 0 20]\n",
      "\n",
      "===  Humanities : \n",
      "\t   1 . Nick Collom               \tCost =  10 \t [0 20 30 10]\n",
      "\t   2 . Yolanda Starling          \tCost =  10 \t [0 30 20 10]\n",
      "\t   3 . Hazel Nelson              \tCost =  10 \t [0 30 20 10]\n",
      "\t   4 . Joanne Carson             \tCost =  0 \t [10 30 20 0]\n",
      "\t   5 . Phyllis Pew               \tCost =  10 \t [30 0 20 10]\n",
      "\t   6 . Charles Kettle            \tCost =  0 \t [10 30 20 0]\n",
      "\t   7 . Maria Regan               \tCost =  10 \t [0 20 30 10]\n",
      "\t   8 . Helen Robinson            \tCost =  20 \t [0 30 10 20]\n",
      "\t   9 . Antonia Eberhardt         \tCost =  10 \t [0 30 20 10]\n",
      "\t  10 . Helen Delapp              \tCost =  10 \t [0 30 20 10]\n",
      "\t  11 . Bernard Pies              \tCost =  10 \t [0 30 20 10]\n"
     ]
    }
   ],
   "source": [
    "df = qgrid_widget.get_changed_df()\n",
    "solve(df, team_size_max=12)"
   ]
  },
  {
   "cell_type": "code",
   "execution_count": null,
   "metadata": {},
   "outputs": [],
   "source": []
  }
 ],
 "metadata": {
  "kernelspec": {
   "display_name": "Python 3",
   "language": "python",
   "name": "python3"
  },
  "language_info": {
   "codemirror_mode": {
    "name": "ipython",
    "version": 3
   },
   "file_extension": ".py",
   "mimetype": "text/x-python",
   "name": "python",
   "nbconvert_exporter": "python",
   "pygments_lexer": "ipython3",
   "version": "3.8.5"
  }
 },
 "nbformat": 4,
 "nbformat_minor": 4
}
