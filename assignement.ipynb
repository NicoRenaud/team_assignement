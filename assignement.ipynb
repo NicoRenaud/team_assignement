{
 "cells": [
  {
   "cell_type": "code",
   "execution_count": 8,
   "metadata": {},
   "outputs": [],
   "source": [
    "import numpy as np\n",
    "import pandas as pd\n",
    "import qgrid\n",
    "from assignment_team import create_random_dataframe, create_dataframe, solve, estimate_cost"
   ]
  },
  {
   "cell_type": "code",
   "execution_count": 9,
   "metadata": {},
   "outputs": [],
   "source": [
    "# df = create_random_dataframe()\n",
    "pref = create_dataframe('total_overview_fixed_lars.xlsx')"
   ]
  },
  {
   "cell_type": "code",
   "execution_count": 10,
   "metadata": {
    "scrolled": true
   },
   "outputs": [
    {
     "data": {
      "application/vnd.jupyter.widget-view+json": {
       "model_id": "68190bca086a4fdaaf71f463690eb1d1",
       "version_major": 2,
       "version_minor": 0
      },
      "text/plain": [
       "QgridWidget(grid_options={'fullWidthRows': True, 'syncColumnCellResize': True, 'forceFitColumns': True, 'defau…"
      ]
     },
     "metadata": {},
     "output_type": "display_data"
    }
   ],
   "source": [
    "pref_widget = qgrid.show_grid(pref, show_toolbar=True)\n",
    "pref_widget"
   ]
  },
  {
   "cell_type": "code",
   "execution_count": 19,
   "metadata": {
    "scrolled": true
   },
   "outputs": [
    {
     "name": "stdout",
     "output_type": "stream",
     "text": [
      "Minimum cost =  510.0\n",
      "\n",
      "===  Natural Sciences & Engineering : \n",
      "\t   1 . Pablo Rodríguez-Sánchez   \tCost =  10 \t [10 100 20 100]\n",
      "\t   2 . Berend Weel               \tCost =  10 \t [10 100 100 100]\n",
      "\t   3 . Felipe Zapata Ruiz        \tCost =  10 \t [10 20 100 100]\n",
      "\t   4 . Stef Smeets               \tCost =  10 \t [10 20 100 100]\n",
      "\t   5 . Ben van Werkhoven         \tCost =  10 \t [10 100 100 100]\n",
      "\t   6 . Faruk Diblen              \tCost =  10 \t [10 100 100 100]\n",
      "\t   7 . Gijs van den Oord         \tCost =  10 \t [10 100 20 100]\n",
      "\t   8 . Inti Pelupessy            \tCost =  10 \t [10 100 100 100]\n",
      "\t   9 . Lourens Veen              \tCost =  10 \t [10 100 100 100]\n",
      "\t  10 . Robin Richardson          \tCost =  10 \t [10 100 20 100]\n",
      "\t  11 . Jens Wehner               \tCost =  10 \t [10 100 20 100]\n",
      "\t  12 . Johannes Hidding          \tCost =  10 \t [10 100 20 100]\n",
      "\t  13 . Leon Oostrum              \tCost =  10 \t [10 100 20 100]\n",
      "\t  14 . Meiert Grootes            \tCost =  10 \t [10 100 20 100]\n",
      "\t  15 . Victor Azizi Tarksalooyeh \tCost =  10 \t [10 100 20 100]\n",
      "\n",
      "===  Life Sciences : \n",
      "\t   1 . Cunliang Geng             \tCost =  10 \t [100 10 100 100]\n",
      "\t   2 . Peter Kok                 \tCost =  10 \t [100 10 20 100]\n",
      "\t   3 . Stefan Verhoeven          \tCost =  10 \t [100 10 100 100]\n",
      "\t   4 . Sven van der Burg         \tCost =  10 \t [100 10 20 100]\n",
      "\t   5 . Djura Smits               \tCost =  10 \t [100 10 100 100]\n",
      "\t   6 . Merijn Verstraaten        \tCost =  20 \t [10 20 100 100]\n",
      "\t   7 . Sonja Georgievska         \tCost =  10 \t [100 10 20 100]\n",
      "\t   8 . Florian Huber             \tCost =  10 \t [20 10 100 100]\n",
      "\t   9 . Hanno Spreeuw             \tCost =  20 \t [10 20 100 100]\n",
      "\n",
      "===  Environment & Sustainability : \n",
      "\t   1 . Barbara Vreede            \tCost =  10 \t [100 20 10 100]\n",
      "\t   2 . Sarah Alidoost            \tCost =  10 \t [20 100 10 100]\n",
      "\t   3 . Bouwe Andela              \tCost =  10 \t [100 100 10 100]\n",
      "\t   4 . Jaro Camphuijsen          \tCost =  20 \t [10 100 20 100]\n",
      "\t   5 . Niels Drost               \tCost =  10 \t [20 100 10 100]\n",
      "\t   6 . Peter Kalverla            \tCost =  10 \t [100 20 10 100]\n",
      "\t   7 . Ou Ku                     \tCost =  10 \t [100 100 10 20]\n",
      "\t   8 . Yang Liu                  \tCost =  10 \t [20 100 10 100]\n",
      "\t   9 . Francesco Nattino         \tCost =  10 \t [20 100 10 100]\n",
      "\t  10 . Pushpanjali Pawar         \tCost =  10 \t [100 100 10 100]\n",
      "\t  11 . Maarten van Meersbergen   \tCost =  10 \t [100 100 10 20]\n",
      "\t  12 . Thijs van Lankveld        \tCost =  10 \t [20 100 10 100]\n",
      "\t  13 . Alessio Sclocco           \tCost =  20 \t [10 100 20 100]\n",
      "\t  14 . Mariya Chertova           \tCost =  10 \t [20 100 10 100]\n",
      "\t  15 . Pablo Lopez-Tarifa        \tCost =  20 \t [10 100 20 100]\n",
      "\n",
      "===  Social Sciences & Humanities : \n",
      "\t   1 . Jesus Garcia Gonzalez     \tCost =  10 \t [100 100 20 10]\n",
      "\t   2 . Christiaan Meijer         \tCost =  10 \t [100 100 20 10]\n",
      "\t   3 . Erik Tjong-Kim-Sang       \tCost =  10 \t [100 100 100 10]\n",
      "\t   4 . Dafne van Kuppevelt       \tCost =  10 \t [100 100 100 10]\n",
      "\t   5 . Jurriaan Spaaks           \tCost =  10 \t [100 100 20 10]\n",
      "\t   6 . Patrick Bos               \tCost =  20 \t [10 100 100 20]\n"
     ]
    }
   ],
   "source": [
    "pref = pref_widget.get_changed_df()\n",
    "team, cost = solve(pref, team_size_max=15, debug=True)"
   ]
  },
  {
   "cell_type": "code",
   "execution_count": 18,
   "metadata": {},
   "outputs": [
    {
     "data": {
      "application/vnd.jupyter.widget-view+json": {
       "model_id": "1a031aca9c96459aa0e57bff8f221a06",
       "version_major": 2,
       "version_minor": 0
      },
      "text/plain": [
       "QgridWidget(grid_options={'fullWidthRows': True, 'syncColumnCellResize': True, 'forceFitColumns': True, 'defau…"
      ]
     },
     "metadata": {},
     "output_type": "display_data"
    }
   ],
   "source": [
    "team_widget = qgrid.show_grid(team, show_toolbar=True)\n",
    "team_widget"
   ]
  },
  {
   "cell_type": "code",
   "execution_count": 17,
   "metadata": {},
   "outputs": [
    {
     "name": "stdout",
     "output_type": "stream",
     "text": [
      "Total cost =  [510]\n"
     ]
    }
   ],
   "source": [
    "team = team_widget.get_changed_df()\n",
    "new_cost = estimate_cost(team, pref)"
   ]
  },
  {
   "cell_type": "code",
   "execution_count": null,
   "metadata": {},
   "outputs": [],
   "source": []
  }
 ],
 "metadata": {
  "kernelspec": {
   "display_name": "Python 3",
   "language": "python",
   "name": "python3"
  },
  "language_info": {
   "codemirror_mode": {
    "name": "ipython",
    "version": 3
   },
   "file_extension": ".py",
   "mimetype": "text/x-python",
   "name": "python",
   "nbconvert_exporter": "python",
   "pygments_lexer": "ipython3",
   "version": "3.8.5"
  }
 },
 "nbformat": 4,
 "nbformat_minor": 4
}
