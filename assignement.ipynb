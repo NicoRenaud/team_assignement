{
 "cells": [
  {
   "cell_type": "code",
   "execution_count": 2,
   "metadata": {},
   "outputs": [],
   "source": [
    "import numpy as np\n",
    "import pandas as pd\n",
    "import qgrid\n",
    "from assignment_team import create_random_dataframe, create_dataframe, solve"
   ]
  },
  {
   "cell_type": "code",
   "execution_count": 3,
   "metadata": {},
   "outputs": [
    {
     "name": "stdout",
     "output_type": "stream",
     "text": [
      "Bouwe Andela  2nd choice ( Natural Sciences & Engineering OR Life sciences ) not recognized\n",
      "Pushpanjali Pawar  2nd choice ( No preference ) not recognized\n",
      "Berend Weel  2nd choice ( No preference ) not recognized\n",
      "Cunliang Geng  2nd choice ( no preference ) not recognized\n",
      "Erik Tjong-Kim-Sang  1st choice ( No preference ) not recognized\n",
      "Erik Tjong-Kim-Sang  2nd choice ( nan ) not recognized\n",
      "Felipe Zapata Ruiz  2nd choice ( nan ) not recognized\n",
      "Maarten van Meersbergen  2nd choice ( Strong preference for Env&sust! Did some projects in the SSH domain, but is not driven/motivated by the SSH science) ) not recognized\n",
      "Peter Kok  2nd choice ( nan ) not recognized\n",
      "Stef Smeets  2nd choice ( nan ) not recognized\n",
      "Stefan Verhoeven  1st choice ( No preference ) not recognized\n",
      "Stefan Verhoeven  2nd choice ( nan ) not recognized\n",
      "Sven van der Burg  2nd choice ( nan ) not recognized\n",
      "Ben van Werkhoven  2nd choice ( nan ) not recognized\n",
      "Dafne van Kuppevelt  2nd choice ( No preference ) not recognized\n",
      "Djura Smits  2nd choice ( No preference ) not recognized\n",
      "Faruk Diblen  2nd choice ( No preference ) not recognized\n",
      "Inti Pelupessy  2nd choice ( No preference ) not recognized\n",
      "Lourens Veen  2nd choice ( No preference ) not recognized\n",
      "Stijn Heldens  1st choice ( nan ) not recognized\n",
      "Stijn Heldens  2nd choice ( nan ) not recognized\n",
      "Maaike de Jong  2nd choice ( none ) not recognized\n"
     ]
    }
   ],
   "source": [
    "# df = create_random_dataframe()\n",
    "df = create_dataframe('total_overview_fixed.xlsx')"
   ]
  },
  {
   "cell_type": "code",
   "execution_count": 4,
   "metadata": {
    "scrolled": true
   },
   "outputs": [
    {
     "data": {
      "application/vnd.jupyter.widget-view+json": {
       "model_id": "b3a78a80336f45d1bbe841af656caf65",
       "version_major": 2,
       "version_minor": 0
      },
      "text/plain": [
       "QgridWidget(grid_options={'fullWidthRows': True, 'syncColumnCellResize': True, 'forceFitColumns': True, 'defau…"
      ]
     },
     "metadata": {},
     "output_type": "display_data"
    }
   ],
   "source": [
    "qgrid_widget = qgrid.show_grid(df, show_toolbar=True)\n",
    "qgrid_widget"
   ]
  },
  {
   "cell_type": "code",
   "execution_count": 4,
   "metadata": {
    "scrolled": true
   },
   "outputs": [
    {
     "name": "stdout",
     "output_type": "stream",
     "text": [
      "Minimum cost =  820.0\n",
      "\n",
      "===  Natural Sciences & Engineering : \n",
      "\t   1 . Jaro Camphuijsen          \tCost =  10 \t [10 100 20 100]\n",
      "\t   2 . Pablo Rodríguez-Sánchez   \tCost =  10 \t [10 100 20 100]\n",
      "\t   3 . Berend Weel               \tCost =  10 \t [10 100 100 100]\n",
      "\t   4 . Ben van Werkhoven         \tCost =  10 \t [10 100 100 100]\n",
      "\t   5 . Faruk Diblen              \tCost =  10 \t [10 100 100 100]\n",
      "\t   6 . Gijs van den Oord         \tCost =  10 \t [10 100 20 100]\n",
      "\t   7 . Inti Pelupessy            \tCost =  10 \t [10 100 100 100]\n",
      "\t   8 . Lourens Veen              \tCost =  10 \t [10 100 100 100]\n",
      "\t   9 . Robin Richardson          \tCost =  10 \t [10 100 20 100]\n",
      "\t  10 . Alessio Sclocco           \tCost =  10 \t [10 100 20 100]\n",
      "\t  11 . Jens Wehner               \tCost =  10 \t [10 100 20 100]\n",
      "\t  12 . Johannes Hidding          \tCost =  10 \t [10 100 20 100]\n",
      "\t  13 . Leon Oostrum              \tCost =  10 \t [10 100 20 100]\n",
      "\t  14 . Meiert Grootes            \tCost =  10 \t [10 100 20 100]\n",
      "\t  15 . Victor Azizi Tarksalooyeh \tCost =  10 \t [10 100 20 100]\n",
      "\n",
      "===  Life Sciences : \n",
      "\t   1 . Barbara Vreede            \tCost =  20 \t [100 20 10 100]\n",
      "\t   2 . Cunliang Geng             \tCost =  10 \t [100 10 100 100]\n",
      "\t   3 . Felipe Zapata Ruiz        \tCost =  10 \t [100 10 100 100]\n",
      "\t   4 . Stef Smeets               \tCost =  10 \t [100 10 100 100]\n",
      "\t   5 . Stefan Verhoeven          \tCost =  100 \t [100 100 100 100]\n",
      "\t   6 . Djura Smits               \tCost =  10 \t [100 10 100 100]\n",
      "\t   7 . Merijn Verstraaten        \tCost =  20 \t [10 20 100 100]\n",
      "\t   8 . Sonja Georgievska         \tCost =  10 \t [100 10 20 100]\n",
      "\t   9 . Stijn Heldens             \tCost =  100 \t [100 100 100 100]\n",
      "\t  10 . Florian Huber             \tCost =  10 \t [20 10 100 100]\n",
      "\t  11 . Hanno Spreeuw             \tCost =  20 \t [10 20 100 100]\n",
      "\n",
      "===  Environment & Sustainability : \n",
      "\t   1 . Sarah Alidoost            \tCost =  10 \t [20 100 10 100]\n",
      "\t   2 . Bouwe Andela              \tCost =  10 \t [100 100 10 100]\n",
      "\t   3 . Niels Drost               \tCost =  10 \t [20 100 10 100]\n",
      "\t   4 . Peter Kalverla            \tCost =  10 \t [100 20 10 100]\n",
      "\t   5 . Ou Ku                     \tCost =  10 \t [100 100 10 20]\n",
      "\t   6 . Yang Liu                  \tCost =  10 \t [20 100 10 100]\n",
      "\t   7 . Francesco Nattino         \tCost =  10 \t [20 100 10 100]\n",
      "\t   8 . Pushpanjali Pawar         \tCost =  10 \t [100 100 10 100]\n",
      "\t   9 . Peter Kok                 \tCost =  10 \t [100 100 10 100]\n",
      "\t  10 . Sven van der Burg         \tCost =  10 \t [100 100 10 100]\n",
      "\t  11 . Thijs van Lankveld        \tCost =  10 \t [20 100 10 100]\n",
      "\t  12 . Mariya Chertova           \tCost =  10 \t [20 100 10 100]\n",
      "\t  13 . Pablo Lopez-Tarifa        \tCost =  20 \t [10 100 20 100]\n",
      "\t  14 . Maaike de Jong            \tCost =  10 \t [100 100 10 100]\n",
      "\t  15 . Mateusz Kuzak             \tCost =  10 \t [100 20 10 100]\n",
      "\n",
      "===  Social Sciences & Humanities : \n",
      "\t   1 . Jesus Garcia Gonzalez     \tCost =  10 \t [100 100 20 10]\n",
      "\t   2 . Christiaan Meijer         \tCost =  10 \t [100 100 20 10]\n",
      "\t   3 . Erik Tjong-Kim-Sang       \tCost =  100 \t [100 100 100 100]\n",
      "\t   4 . Maarten van Meersbergen   \tCost =  10 \t [100 100 100 10]\n",
      "\t   5 . Dafne van Kuppevelt       \tCost =  10 \t [100 100 100 10]\n",
      "\t   6 . Carlos Martinez Ortiz     \tCost =  10 \t [100 100 20 10]\n",
      "\t   7 . Jurriaan Spaaks           \tCost =  10 \t [100 100 20 10]\n",
      "\t   8 . Patrick Bos               \tCost =  20 \t [10 100 100 20]\n",
      "\t   9 . Lieke de Boer             \tCost =  10 \t [100 20 100 10]\n"
     ]
    }
   ],
   "source": [
    "df = qgrid_widget.get_changed_df()\n",
    "solve(df, team_size_max=15)"
   ]
  },
  {
   "cell_type": "code",
   "execution_count": null,
   "metadata": {},
   "outputs": [],
   "source": []
  }
 ],
 "metadata": {
  "kernelspec": {
   "display_name": "Python 3",
   "language": "python",
   "name": "python3"
  },
  "language_info": {
   "codemirror_mode": {
    "name": "ipython",
    "version": 3
   },
   "file_extension": ".py",
   "mimetype": "text/x-python",
   "name": "python",
   "nbconvert_exporter": "python",
   "pygments_lexer": "ipython3",
   "version": "3.8.5"
  }
 },
 "nbformat": 4,
 "nbformat_minor": 4
}
